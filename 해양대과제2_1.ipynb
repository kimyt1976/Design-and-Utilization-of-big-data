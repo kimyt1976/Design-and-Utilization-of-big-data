{
  "nbformat": 4,
  "nbformat_minor": 0,
  "metadata": {
    "colab": {
      "provenance": [],
      "authorship_tag": "ABX9TyMLRjq7R2CUYC1py7EHugxw",
      "include_colab_link": true
    },
    "kernelspec": {
      "name": "python3",
      "display_name": "Python 3"
    },
    "language_info": {
      "name": "python"
    }
  },
  "cells": [
    {
      "cell_type": "markdown",
      "metadata": {
        "id": "view-in-github",
        "colab_type": "text"
      },
      "source": [
        "<a href=\"https://colab.research.google.com/github/kimyt1976/Design-and-Utilization-of-big-data/blob/bigdata/%ED%95%B4%EC%96%91%EB%8C%80%EA%B3%BC%EC%A0%9C2_1.ipynb\" target=\"_parent\"><img src=\"https://colab.research.google.com/assets/colab-badge.svg\" alt=\"Open In Colab\"/></a>"
      ]
    },
    {
      "cell_type": "code",
      "execution_count": 15,
      "metadata": {
        "colab": {
          "base_uri": "https://localhost:8080/"
        },
        "id": "dJCX93EBMiWW",
        "outputId": "5190b7bd-7e34-4e28-fbe5-a64dd3d06787"
      },
      "outputs": [
        {
          "output_type": "stream",
          "name": "stdout",
          "text": [
            "a =  [2, 3, 4, 5, 6]\n",
            "rev_a =  [6, 5, 4, 3, 2]\n"
          ]
        }
      ],
      "source": [
        "#(과제 1) a = [2, 3, 4, 5, 6] 이 있을 경우 , 이 리스트의 순서를 바꾸는 기능을 reverse() 메소드를\n",
        "#사용하지 않고 for in 문과 pop() 메소드를 사용하여 구현하시오 힌트 : 리스트의 원소를 하나하나\n",
        "#순회하면서 pop() 메소드를 호출하시오\n",
        "\n",
        "a = [2,3,4,5,6]\n",
        "print('a = ', a)\n",
        "\n",
        "rev_a = []\n",
        "for i in range(len(a)):\n",
        "  rev_a.append(a.pop())\n",
        "\n",
        "print('rev_a = ', rev_a)\n",
        "\n",
        "\n",
        "\n"
      ]
    }
  ]
}