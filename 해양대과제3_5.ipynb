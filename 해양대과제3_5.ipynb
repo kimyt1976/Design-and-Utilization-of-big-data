{
  "nbformat": 4,
  "nbformat_minor": 0,
  "metadata": {
    "colab": {
      "provenance": [],
      "authorship_tag": "ABX9TyOdFq6AN8PnAwuYRgBfBF/Z",
      "include_colab_link": true
    },
    "kernelspec": {
      "name": "python3",
      "display_name": "Python 3"
    },
    "language_info": {
      "name": "python"
    }
  },
  "cells": [
    {
      "cell_type": "markdown",
      "metadata": {
        "id": "view-in-github",
        "colab_type": "text"
      },
      "source": [
        "<a href=\"https://colab.research.google.com/github/kimyt1976/Design-and-Utilization-of-big-data/blob/bigdata/%ED%95%B4%EC%96%91%EB%8C%80%EA%B3%BC%EC%A0%9C3_5.ipynb\" target=\"_parent\"><img src=\"https://colab.research.google.com/assets/colab-badge.svg\" alt=\"Open In Colab\"/></a>"
      ]
    },
    {
      "cell_type": "code",
      "execution_count": 2,
      "metadata": {
        "colab": {
          "base_uri": "https://localhost:8080/"
        },
        "id": "dJCX93EBMiWW",
        "outputId": "51b3c483-749c-4b78-f7ec-78206d89012a"
      },
      "outputs": [
        {
          "output_type": "stream",
          "name": "stdout",
          "text": [
            "가장 길이가 짧은 문자열 : abc\n"
          ]
        }
      ],
      "source": [
        "#s_list = ['abc', 'bcd', 'bcdefg', 'abba', 'cddc', 'opq']\n",
        "#와 같은 문자열을 가진 리스트가 존재한다 .\n",
        "#이 리스트에 대하여 다음과 같은 기능을 구현하여라\n",
        "#1) min()함수나 sort() 메소드를 사용하지 말고 , s_list 내의 문자열 항목중에서 가장 길이가 짧은\n",
        "#문자열을 출력하여라 길이가 가장 짧은 문자열이 여러개 있을 경우 아래 출력과 같이 제일 먼저 나\n",
        "#타나는 문자열을 출력하여라\n",
        "\n",
        "s_list = ['abc', 'bcd', 'bcdefg', 'abba', 'cddc', 'opq']\n",
        "min_len = len(s_list[0]);\n",
        "min_s = s_list[0]\n",
        "\n",
        "for s in s_list:\n",
        "  l = len(s)\n",
        "  if min_len > l:\n",
        "    min_len = l\n",
        "    min_s = s\n",
        "\n",
        "print('가장 길이가 짧은 문자열 :', min_s)"
      ]
    }
  ]
}