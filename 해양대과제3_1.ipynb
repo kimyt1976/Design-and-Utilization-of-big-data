{
  "nbformat": 4,
  "nbformat_minor": 0,
  "metadata": {
    "colab": {
      "provenance": [],
      "authorship_tag": "ABX9TyO4aVQd28xD/z2FDZ4v2QAB",
      "include_colab_link": true
    },
    "kernelspec": {
      "name": "python3",
      "display_name": "Python 3"
    },
    "language_info": {
      "name": "python"
    }
  },
  "cells": [
    {
      "cell_type": "markdown",
      "metadata": {
        "id": "view-in-github",
        "colab_type": "text"
      },
      "source": [
        "<a href=\"https://colab.research.google.com/github/kimyt1976/Design-and-Utilization-of-big-data/blob/bigdata/%ED%95%B4%EC%96%91%EB%8C%80%EA%B3%BC%EC%A0%9C3_1.ipynb\" target=\"_parent\"><img src=\"https://colab.research.google.com/assets/colab-badge.svg\" alt=\"Open In Colab\"/></a>"
      ]
    },
    {
      "cell_type": "code",
      "execution_count": 1,
      "metadata": {
        "colab": {
          "base_uri": "https://localhost:8080/"
        },
        "id": "dJCX93EBMiWW",
        "outputId": "f1ff883c-ca99-498c-d53c-5b8249992030"
      },
      "outputs": [
        {
          "output_type": "stream",
          "name": "stdout",
          "text": [
            "주어진 튜플 : (1, 2, 5, 4, 3, 2, 1, 4, 7, 8, 9, 9, 3, 7, 3)\n",
            "가장 많이 나타나는 요소는 :  3\n",
            "주어진 튜플 : (1, 2, 5, 4, 3, 2, 9, 4, 7, 8, 9, 9, 3, 7, 3)\n",
            "가장 많이 나타나는 요소는 :  9\n"
          ]
        }
      ],
      "source": [
        "# 튜플 샘플 #1\n",
        "tup = (1, 2, 5, 4, 3, 2, 1, 4, 7, 8, 9, 9, 3, 7, 3)\n",
        "print('주어진 튜플 :', tup)\n",
        "temp = sorted(list(tup))\n",
        "\n",
        "max_count = 1\n",
        "count = 1\n",
        "cur_value = max_value = temp[0]\n",
        "\n",
        "for i in range(1, len(temp)):\n",
        "  if temp[i] is cur_value:\n",
        "    count += 1\n",
        "    if count >= max_count:\n",
        "      max_count = count\n",
        "      max_value = cur_value\n",
        "  else:\n",
        "    cur_value = temp[i]\n",
        "    count = 1\n",
        "\n",
        "print('가장 많이 나타나는 요소는 : ',max_value)\n",
        "\n",
        "\n",
        "# 튜플 샘플 #2\n",
        "tup = (1, 2, 5, 4, 3, 2, 9, 4, 7, 8, 9, 9, 3, 7, 3)\n",
        "print('주어진 튜플 :', tup)\n",
        "temp = sorted(list(tup))\n",
        "\n",
        "max_count = 1\n",
        "count = 1\n",
        "cur_value = max_value = temp[0]\n",
        "\n",
        "for i in range(1, len(temp)):\n",
        "  if temp[i] is cur_value:\n",
        "    count += 1\n",
        "    if count >= max_count:\n",
        "      max_count = count\n",
        "      max_value = cur_value\n",
        "  else:\n",
        "    cur_value = temp[i]\n",
        "    count = 1\n",
        "\n",
        "print('가장 많이 나타나는 요소는 : ',max_value)"
      ]
    }
  ]
}