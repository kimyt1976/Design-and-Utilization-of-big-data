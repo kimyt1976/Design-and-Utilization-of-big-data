{
  "nbformat": 4,
  "nbformat_minor": 0,
  "metadata": {
    "colab": {
      "provenance": [],
      "authorship_tag": "ABX9TyOWxub2PDsjd1N9ykHlxnYr",
      "include_colab_link": true
    },
    "kernelspec": {
      "name": "python3",
      "display_name": "Python 3"
    },
    "language_info": {
      "name": "python"
    }
  },
  "cells": [
    {
      "cell_type": "markdown",
      "metadata": {
        "id": "view-in-github",
        "colab_type": "text"
      },
      "source": [
        "<a href=\"https://colab.research.google.com/github/kimyt1976/Design-and-Utilization-of-big-data/blob/bigdata/%ED%95%B4%EC%96%91%EB%8C%80%EA%B3%BC%EC%A0%9C3_6.ipynb\" target=\"_parent\"><img src=\"https://colab.research.google.com/assets/colab-badge.svg\" alt=\"Open In Colab\"/></a>"
      ]
    },
    {
      "cell_type": "code",
      "execution_count": 1,
      "metadata": {
        "colab": {
          "base_uri": "https://localhost:8080/"
        },
        "id": "dJCX93EBMiWW",
        "outputId": "51d9a5dc-435e-418f-fc8a-808c30f0de77"
      },
      "outputs": [
        {
          "output_type": "stream",
          "name": "stdout",
          "text": [
            "가장 길이가 짧은 문자열 : 'abc', 'bcd'', 'opq'\n"
          ]
        }
      ],
      "source": [
        "#1) 번 문제에서 'abc', 'bcd', 'opq' 의 세 문자열의 길이가 3 으로 모두 같다 . 이와 같이 문자열의\n",
        "#길이가 같을 경우 다음과 같이 가장 길이가 짧은 문자열 3 개를 모두 출력하는 프로그램을 작성하여\n",
        "#라 . sort(key=len) 함수를 사용하여 길이에 따라 정렬한 후 코드를 작성하여라\n",
        "\n",
        "s_list = ['abc', 'bcd', 'bcdefg', 'abba', 'cddc', 'opq']\n",
        "s_list.sort(key=len)\n",
        "group_list = []\n",
        "min_len = len(s_list[0])\n",
        "# print(s_list)\n",
        "\n",
        "for s in s_list:\n",
        "  if min_len == len(s):\n",
        "    group_list.append(s)\n",
        "\n",
        "print(\"가장 길이가 짧은 문자열 : '{}', '{}'', '{}'\".format(group_list[0],group_list[1],group_list[2]))\n"
      ]
    }
  ]
}