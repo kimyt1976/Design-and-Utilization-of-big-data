{
  "nbformat": 4,
  "nbformat_minor": 0,
  "metadata": {
    "colab": {
      "provenance": [],
      "authorship_tag": "ABX9TyMCIsmfH9yVT/yGfBpJMbjF",
      "include_colab_link": true
    },
    "kernelspec": {
      "name": "python3",
      "display_name": "Python 3"
    },
    "language_info": {
      "name": "python"
    }
  },
  "cells": [
    {
      "cell_type": "markdown",
      "metadata": {
        "id": "view-in-github",
        "colab_type": "text"
      },
      "source": [
        "<a href=\"https://colab.research.google.com/github/kimyt1976/Design-and-Utilization-of-big-data/blob/bigdata/%ED%95%B4%EC%96%91%EB%8C%80%EA%B3%BC%EC%A0%9C4_2.ipynb\" target=\"_parent\"><img src=\"https://colab.research.google.com/assets/colab-badge.svg\" alt=\"Open In Colab\"/></a>"
      ]
    },
    {
      "cell_type": "code",
      "execution_count": 1,
      "metadata": {
        "colab": {
          "base_uri": "https://localhost:8080/"
        },
        "id": "dJCX93EBMiWW",
        "outputId": "e3140b5e-d390-404d-9567-e955b4f3b617"
      },
      "outputs": [
        {
          "output_type": "stream",
          "name": "stdout",
          "text": [
            "리스트의 원소 : \n",
            "[82, 27, 90, 30, 87, 56]\n",
            "최소값 :  27\n",
            "최대값 :  90\n",
            "(최대값, 최소값) (90, 27)\n"
          ]
        }
      ],
      "source": [
        "# 함수활용 리스트에서 최대/최소값을 찾아 두개를 반환\n",
        "\n",
        "def getMinAndMax(mylist):\n",
        "  min_value = mylist[0]\n",
        "  max_value = mylist[0]\n",
        "\n",
        "  for value in mylist:\n",
        "    if value > max_value:\n",
        "      max_value = value\n",
        "      print('최대값 : ', max_value)\n",
        "    if value < min_value:\n",
        "      min_value = value\n",
        "      print('최소값 : ', min_value)\n",
        "  return max_value, min_value\n",
        "\n",
        "list_data = [82, 27, 90, 30, 87,56]\n",
        "print(\"리스트의 원소 : \")\n",
        "print(list_data)\n",
        "print('(최대값, 최소값)',getMinAndMax(mylist=list_data))"
      ]
    }
  ]
}