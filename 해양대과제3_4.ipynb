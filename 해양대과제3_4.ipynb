{
  "nbformat": 4,
  "nbformat_minor": 0,
  "metadata": {
    "colab": {
      "provenance": [],
      "authorship_tag": "ABX9TyNx+vZnp7DuG18qK5j9xM2j",
      "include_colab_link": true
    },
    "kernelspec": {
      "name": "python3",
      "display_name": "Python 3"
    },
    "language_info": {
      "name": "python"
    }
  },
  "cells": [
    {
      "cell_type": "markdown",
      "metadata": {
        "id": "view-in-github",
        "colab_type": "text"
      },
      "source": [
        "<a href=\"https://colab.research.google.com/github/kimyt1976/Design-and-Utilization-of-big-data/blob/bigdata/%ED%95%B4%EC%96%91%EB%8C%80%EA%B3%BC%EC%A0%9C3_4.ipynb\" target=\"_parent\"><img src=\"https://colab.research.google.com/assets/colab-badge.svg\" alt=\"Open In Colab\"/></a>"
      ]
    },
    {
      "cell_type": "code",
      "execution_count": 5,
      "metadata": {
        "colab": {
          "base_uri": "https://localhost:8080/"
        },
        "id": "dJCX93EBMiWW",
        "outputId": "4dfeef19-09f8-47ed-828a-806e77be3c2f"
      },
      "outputs": [
        {
          "output_type": "stream",
          "name": "stdout",
          "text": [
            "Americano        가격 : 3,000원\n",
            "Ice Americano    가격 : 3,500원\n",
            "Cappuccino       가격 : 4,000원\n",
            "Cafe Latte       가격 : 4,500원\n",
            "Espresso         가격 : 3,600원\n",
            "위의 메뉴중 하나를 선택하세요 :Espresso\n",
            "Espresso는 3,600원 입니다. 결제를 부탁합니다.\n"
          ]
        }
      ],
      "source": [
        "# 사용자로부터 다음과 같은 주문을 받은 후 주문한 내용이 메뉴에 있는지 구\n",
        "# 하는 프로그램을 작성하라 힌트 : in 연산자를 사용할 것\n",
        "\n",
        "menu = {'Americano' : '3,000', 'Ice Americano' : '3,500', 'Cappuccino' : '4,000', 'Cafe Latte' : '4,500', 'Espresso' : '3,600'}\n",
        "for key in menu:\n",
        "  print('{:16s} 가격 : {}원'.format(key, menu[key]))\n",
        "\n",
        "choice = input('위의 메뉴중 하나를 선택하세요 :')\n",
        "if choice in menu.keys():\n",
        "  print('{}는 {:}원 입니다. 결제를 부탁합니다.'.format(choice, menu[choice]))\n",
        "else:\n",
        "  print('미안합니다 . {}는 메뉴에 없습니다 '.format(choice))\n",
        "\n",
        "\n"
      ]
    }
  ]
}