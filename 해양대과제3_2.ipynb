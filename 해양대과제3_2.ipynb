{
  "nbformat": 4,
  "nbformat_minor": 0,
  "metadata": {
    "colab": {
      "provenance": [],
      "authorship_tag": "ABX9TyO+xB+K4WcF9xl0zwhX8i32",
      "include_colab_link": true
    },
    "kernelspec": {
      "name": "python3",
      "display_name": "Python 3"
    },
    "language_info": {
      "name": "python"
    }
  },
  "cells": [
    {
      "cell_type": "markdown",
      "metadata": {
        "id": "view-in-github",
        "colab_type": "text"
      },
      "source": [
        "<a href=\"https://colab.research.google.com/github/kimyt1976/Design-and-Utilization-of-big-data/blob/bigdata/%ED%95%B4%EC%96%91%EB%8C%80%EA%B3%BC%EC%A0%9C3_2.ipynb\" target=\"_parent\"><img src=\"https://colab.research.google.com/assets/colab-badge.svg\" alt=\"Open In Colab\"/></a>"
      ]
    },
    {
      "cell_type": "code",
      "execution_count": 4,
      "metadata": {
        "colab": {
          "base_uri": "https://localhost:8080/"
        },
        "id": "dJCX93EBMiWW",
        "outputId": "3fa132b1-ab0f-4068-cccc-7a2a8ab17fae"
      },
      "outputs": [
        {
          "output_type": "stream",
          "name": "stdout",
          "text": [
            "일일 매출 기록 :  (100, 121, 120, 130, 140, 120, 122, 123, 190, 125)\n",
            "지난 10 일 동안 전일대비 매출이 감소한 날은 3 일입니다.\n"
          ]
        }
      ],
      "source": [
        "# 주어진 튜플은 10 일 동안 일일 매장 매출을 기록한 것이다 . 매출이 전날보다 감소한 날이 몇일인지 출력하는 코드를 작성하여라.\n",
        "\n",
        "sales = (100, 121, 120, 130, 140, 120, 122, 123, 190, 125)\n",
        "drop = 0\n",
        "\n",
        "for i in range(len(sales)-1):\n",
        "  if sales[i] > sales[i+1]:\n",
        "    drop += 1\n",
        "print('일일 매출 기록 : ', sales)\n",
        "print('지난 {} 일 동안 전일대비 매출이 감소한 날은 {} 일입니다.'.format(len(sales), drop))\n"
      ]
    }
  ]
}