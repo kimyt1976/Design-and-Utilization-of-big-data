{
  "nbformat": 4,
  "nbformat_minor": 0,
  "metadata": {
    "colab": {
      "provenance": [],
      "authorship_tag": "ABX9TyPNy6DKYHAE4xr7z1AeazbM",
      "include_colab_link": true
    },
    "kernelspec": {
      "name": "python3",
      "display_name": "Python 3"
    },
    "language_info": {
      "name": "python"
    }
  },
  "cells": [
    {
      "cell_type": "markdown",
      "metadata": {
        "id": "view-in-github",
        "colab_type": "text"
      },
      "source": [
        "<a href=\"https://colab.research.google.com/github/kimyt1976/Design-and-Utilization-of-big-data/blob/bigdata/%ED%95%B4%EC%96%91%EB%8C%80%EA%B3%BC%EC%A0%9C3_3.ipynb\" target=\"_parent\"><img src=\"https://colab.research.google.com/assets/colab-badge.svg\" alt=\"Open In Colab\"/></a>"
      ]
    },
    {
      "cell_type": "code",
      "execution_count": 9,
      "metadata": {
        "colab": {
          "base_uri": "https://localhost:8080/"
        },
        "id": "dJCX93EBMiWW",
        "outputId": "4cabb6b7-13a0-41b3-f599-4866bbbe7111"
      },
      "outputs": [
        {
          "output_type": "stream",
          "name": "stdout",
          "text": [
            "Americano        가격 : 3,000원\n",
            "Ice Americano    가격 : 3,500원\n",
            "Cappuccino       가격 : 4,000원\n",
            "Cafe Latte       가격 : 4,500원\n",
            "Espresso         가격 : 3,600원\n"
          ]
        }
      ],
      "source": [
        "# 동윤이가 새로 문을 열고 운영하는 커피 가게에는 Americano, Ice Americano,\n",
        "# Cappuccino, Caffe Latte, Espresso 의 5 가지 메뉴가 있으며 , 각 메뉴의 가격은 각각 3,000 원 ,\n",
        "# 3,500 원 , 4,000 원 , 4,500 원 , 3,600 원이다 . 이 목록을 menu 라는 딕셔너리로 작성하라\n",
        "\n",
        "menu = {'Americano' : '3,000', 'Ice Americano' : '3,500', 'Cappuccino' : '4,000', 'Cafe Latte' : '4,500', 'Espresso' : '3,600'}\n",
        "for key in menu:\n",
        "  print('{:16s} 가격 : {}원'.format(key, menu[key]))\n",
        "\n"
      ]
    }
  ]
}